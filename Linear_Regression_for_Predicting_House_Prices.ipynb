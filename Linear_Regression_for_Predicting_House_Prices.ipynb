{
  "nbformat": 4,
  "nbformat_minor": 0,
  "metadata": {
    "colab": {
      "provenance": [],
      "authorship_tag": "ABX9TyNhonF/xXKIKikAhUN77dfn",
      "include_colab_link": true
    },
    "kernelspec": {
      "name": "python3",
      "display_name": "Python 3"
    },
    "language_info": {
      "name": "python"
    }
  },
  "cells": [
    {
      "cell_type": "markdown",
      "metadata": {
        "id": "view-in-github",
        "colab_type": "text"
      },
      "source": [
        "<a href=\"https://colab.research.google.com/github/Sayed-Hossein-Hosseini/Linear_Regression_for_Predicting_House_Prices/blob/master/Linear_Regression_for_Predicting_House_Prices.ipynb\" target=\"_parent\"><img src=\"https://colab.research.google.com/assets/colab-badge.svg\" alt=\"Open In Colab\"/></a>"
      ]
    },
    {
      "cell_type": "markdown",
      "source": [
        "# **Linear Regression for Predicting House Prices**"
      ],
      "metadata": {
        "id": "sKNcBO9RTNE_"
      }
    },
    {
      "cell_type": "markdown",
      "source": [
        "## **Libraries**"
      ],
      "metadata": {
        "id": "wD2zlgqNTuQ2"
      }
    },
    {
      "cell_type": "code",
      "execution_count": 12,
      "metadata": {
        "id": "-vKWz6kkA2Lj"
      },
      "outputs": [],
      "source": [
        "import gdown\n",
        "import pandas as pd\n",
        "import numpy as np\n",
        "import warnings\n",
        "\n",
        "warnings.simplefilter(action='ignore', category=FutureWarning)"
      ]
    },
    {
      "cell_type": "markdown",
      "source": [
        "## **Download Dataset**"
      ],
      "metadata": {
        "id": "2bTyVKnyTz6r"
      }
    },
    {
      "cell_type": "code",
      "source": [
        "gdown.download(\"https://drive.google.com/uc?id=1bAJnZWRMPuRF0yRotnLG4Nlr-pRgqWIt\", \"House_Prices.csv\", quiet=False)"
      ],
      "metadata": {
        "colab": {
          "base_uri": "https://localhost:8080/",
          "height": 105
        },
        "id": "joJjm51uUB5-",
        "outputId": "3198b0d9-6d74-4419-ec58-47833ad0a5cc"
      },
      "execution_count": 2,
      "outputs": [
        {
          "output_type": "stream",
          "name": "stderr",
          "text": [
            "Downloading...\n",
            "From: https://drive.google.com/uc?id=1bAJnZWRMPuRF0yRotnLG4Nlr-pRgqWIt\n",
            "To: /content/House_Prices.csv\n",
            "100%|██████████| 3.48k/3.48k [00:00<00:00, 7.97MB/s]\n"
          ]
        },
        {
          "output_type": "execute_result",
          "data": {
            "text/plain": [
              "'House_Prices.csv'"
            ],
            "application/vnd.google.colaboratory.intrinsic+json": {
              "type": "string"
            }
          },
          "metadata": {},
          "execution_count": 2
        }
      ]
    },
    {
      "cell_type": "markdown",
      "source": [
        "## **Preprocessing**"
      ],
      "metadata": {
        "id": "FXa3nC_BVKMU"
      }
    },
    {
      "cell_type": "markdown",
      "source": [
        "### **Remove NULL Data**"
      ],
      "metadata": {
        "id": "yghghatvVPu9"
      }
    },
    {
      "cell_type": "code",
      "source": [
        "# Load the dataset\n",
        "df = pd.read_csv('House_Prices.csv')\n",
        "\n",
        "# Display initial dataset information\n",
        "print(\"Dataset Info:\\n\", df.info())\n",
        "print(\"\\nStatistical Description:\\n\", df.describe())\n",
        "\n",
        "# Display the number of NULL values in each column\n",
        "print(\"\\nNumber of NULL values per column:\\n\", df.isna().sum())\n",
        "\n",
        "# Replace NULL values in numerical columns with median or mode\n",
        "def impute_missing_values(df):\n",
        "    for column in df.columns:\n",
        "        if df[column].isna().sum() > 0:  # Check for NULL values in the column\n",
        "            if df[column].dtype in ['int64', 'float64']:\n",
        "                df[column].fillna(int(df[column].median()), inplace=True)  # Replace with median (converted to integer)\n",
        "            else:\n",
        "                df[column].fillna(df[column].mode()[0], inplace=True)  # Replace with mode (for non-numeric data)\n",
        "    return df\n",
        "\n",
        "# Execute replacement\n",
        "df_replace = impute_missing_values(df)\n",
        "\n",
        "# Recheck NULL values\n",
        "print(\"\\nNumber of NULL values after replacement:\\n\", df_replace.isna().sum())\n"
      ],
      "metadata": {
        "colab": {
          "base_uri": "https://localhost:8080/"
        },
        "id": "pSiWcXVHVaUk",
        "outputId": "20713eba-9a03-48e6-965d-e6666841195f"
      },
      "execution_count": 13,
      "outputs": [
        {
          "output_type": "stream",
          "name": "stdout",
          "text": [
            "<class 'pandas.core.frame.DataFrame'>\n",
            "RangeIndex: 128 entries, 0 to 127\n",
            "Data columns (total 7 columns):\n",
            " #   Column        Non-Null Count  Dtype  \n",
            "---  ------        --------------  -----  \n",
            " 0   Price         128 non-null    int64  \n",
            " 1   SqFt          126 non-null    float64\n",
            " 2   Bedrooms      125 non-null    float64\n",
            " 3   Bathrooms     127 non-null    float64\n",
            " 4   Offers        126 non-null    float64\n",
            " 5   Brick         128 non-null    object \n",
            " 6   Neighborhood  128 non-null    object \n",
            "dtypes: float64(4), int64(1), object(2)\n",
            "memory usage: 7.1+ KB\n",
            "Dataset Info:\n",
            " None\n",
            "\n",
            "Statistical Description:\n",
            "                Price         SqFt    Bedrooms   Bathrooms      Offers\n",
            "count     128.000000   126.000000  125.000000  127.000000  126.000000\n",
            "mean   130427.343750  2001.666667    3.032000    2.448819    2.563492\n",
            "std     26868.770371   212.387382    0.728852    0.514992    1.069550\n",
            "min     69100.000000  1450.000000    2.000000    2.000000    1.000000\n",
            "25%    111325.000000  1882.500000    3.000000    2.000000    2.000000\n",
            "50%    125950.000000  2000.000000    3.000000    2.000000    3.000000\n",
            "75%    148250.000000  2140.000000    3.000000    3.000000    3.000000\n",
            "max    211200.000000  2590.000000    5.000000    4.000000    6.000000\n",
            "\n",
            "Number of NULL values per column:\n",
            " Price           0\n",
            "SqFt            2\n",
            "Bedrooms        3\n",
            "Bathrooms       1\n",
            "Offers          2\n",
            "Brick           0\n",
            "Neighborhood    0\n",
            "dtype: int64\n",
            "\n",
            "Number of NULL values after replacement:\n",
            " Price           0\n",
            "SqFt            0\n",
            "Bedrooms        0\n",
            "Bathrooms       0\n",
            "Offers          0\n",
            "Brick           0\n",
            "Neighborhood    0\n",
            "dtype: int64\n"
          ]
        }
      ]
    },
    {
      "cell_type": "markdown",
      "source": [
        "### **Remove Outliers**"
      ],
      "metadata": {
        "id": "yzzrSQlYVa-i"
      }
    },
    {
      "cell_type": "code",
      "source": [
        "# Display initial dataset statistics\n",
        "print(\"Initial row count:\", df_replace.shape[0])\n",
        "print(\"\\nInitial descriptive statistics:\\n\", df_replace.describe())\n",
        "\n",
        "def remove_manual_outliers(df):\n",
        "    \"\"\"\n",
        "    Remove outliers based on manually defined thresholds for each relevant column.\n",
        "    This provides more control than automatic IQR-based removal.\n",
        "    \"\"\"\n",
        "    clean_df = df.copy()\n",
        "\n",
        "    # Price thresholds - remove extremely cheap or expensive houses\n",
        "    clean_df = clean_df[(clean_df['Price'] >= 70000) & (clean_df['Price'] <= 200000)]\n",
        "\n",
        "    # Square footage thresholds - remove very small or very large houses\n",
        "    clean_df = clean_df[(clean_df['SqFt'] >= 1500) & (clean_df['SqFt'] <= 2500)]\n",
        "\n",
        "    # Bedrooms threshold - remove houses with more than 4 bedrooms\n",
        "    clean_df = clean_df[clean_df['Bedrooms'] <= 4]\n",
        "\n",
        "    # Offers threshold - remove houses with more than 5 offers\n",
        "    clean_df = clean_df[clean_df['Offers'] <= 5]\n",
        "\n",
        "    return clean_df\n",
        "\n",
        "# Apply the manual outlier removal\n",
        "df_clean = remove_manual_outliers(df_replace)\n",
        "\n",
        "# Display results after cleaning\n",
        "print(\"\\nRow count after outlier removal:\", df_clean.shape[0])\n",
        "print(\"Number of rows removed:\", df.shape[0] - df_clean.shape[0])\n",
        "print(\"\\nDescriptive statistics after cleaning:\\n\", df_clean.describe())\n",
        "\n",
        "# Show sample of removed outliers for inspection\n",
        "outliers_removed = df_replace[~df_replace.index.isin(df_clean.index)]\n",
        "print(\"\\nSample of removed outliers:\")\n",
        "print(outliers_removed[['Price', 'SqFt', 'Bedrooms', 'Bathrooms', 'Offers']].head())\n",
        "\n",
        "# Save the cleaned dataset\n",
        "df_clean.to_csv('House_Prices_Manually_Cleaned.csv', index=False)\n",
        "print(\"\\nCleaned dataset saved to 'House_Prices_Manually_Cleaned.csv'\")"
      ],
      "metadata": {
        "colab": {
          "base_uri": "https://localhost:8080/"
        },
        "id": "yllcPytxVjOJ",
        "outputId": "b9a49810-4245-427e-8afe-ca06b781c160"
      },
      "execution_count": 14,
      "outputs": [
        {
          "output_type": "stream",
          "name": "stdout",
          "text": [
            "Initial row count: 128\n",
            "\n",
            "Initial descriptive statistics:\n",
            "                Price         SqFt    Bedrooms   Bathrooms      Offers\n",
            "count     128.000000   128.000000  128.000000  128.000000  128.000000\n",
            "mean   130427.343750  2001.640625    3.031250    2.445312    2.570312\n",
            "std     26868.770371   210.708506    0.720209    0.514492    1.062486\n",
            "min     69100.000000  1450.000000    2.000000    2.000000    1.000000\n",
            "25%    111325.000000  1887.500000    3.000000    2.000000    2.000000\n",
            "50%    125950.000000  2000.000000    3.000000    2.000000    3.000000\n",
            "75%    148250.000000  2140.000000    3.000000    3.000000    3.000000\n",
            "max    211200.000000  2590.000000    5.000000    4.000000    6.000000\n",
            "\n",
            "Row count after outlier removal: 120\n",
            "Number of rows removed: 8\n",
            "\n",
            "Descriptive statistics after cleaning:\n",
            "                Price         SqFt    Bedrooms   Bathrooms      Offers\n",
            "count     120.000000   120.000000  120.000000  120.000000  120.000000\n",
            "mean   129585.000000  1991.500000    2.991667    2.425000    2.525000\n",
            "std     24606.843518   187.422365    0.667314    0.496416    1.003879\n",
            "min     81300.000000  1520.000000    2.000000    2.000000    1.000000\n",
            "25%    111550.000000  1887.500000    3.000000    2.000000    2.000000\n",
            "50%    125700.000000  2000.000000    3.000000    2.000000    3.000000\n",
            "75%    147750.000000  2130.000000    3.000000    3.000000    3.000000\n",
            "max    188300.000000  2440.000000    4.000000    3.000000    5.000000\n",
            "\n",
            "Sample of removed outliers:\n",
            "     Price    SqFt  Bedrooms  Bathrooms  Offers\n",
            "14  176800  2590.0       4.0        3.0     4.0\n",
            "28   69100  1600.0       2.0        2.0     3.0\n",
            "33  139600  2280.0       5.0        3.0     4.0\n",
            "47   90300  2050.0       3.0        2.0     6.0\n",
            "65  111100  1450.0       2.0        2.0     1.0\n",
            "\n",
            "Cleaned dataset saved to 'House_Prices_Manually_Cleaned.csv'\n"
          ]
        }
      ]
    }
  ]
}
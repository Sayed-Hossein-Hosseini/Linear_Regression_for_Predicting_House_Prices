{
  "nbformat": 4,
  "nbformat_minor": 0,
  "metadata": {
    "colab": {
      "provenance": [],
      "authorship_tag": "ABX9TyOkvyTLsIiuDCWmu5AuM0JK",
      "include_colab_link": true
    },
    "kernelspec": {
      "name": "python3",
      "display_name": "Python 3"
    },
    "language_info": {
      "name": "python"
    }
  },
  "cells": [
    {
      "cell_type": "markdown",
      "metadata": {
        "id": "view-in-github",
        "colab_type": "text"
      },
      "source": [
        "<a href=\"https://colab.research.google.com/github/Sayed-Hossein-Hosseini/Linear_Regression_for_Predicting_House_Prices/blob/master/Linear_Regression_for_Predicting_House_Prices.ipynb\" target=\"_parent\"><img src=\"https://colab.research.google.com/assets/colab-badge.svg\" alt=\"Open In Colab\"/></a>"
      ]
    },
    {
      "cell_type": "markdown",
      "source": [
        "# **Linear Regression for Predicting House Prices**"
      ],
      "metadata": {
        "id": "sKNcBO9RTNE_"
      }
    },
    {
      "cell_type": "markdown",
      "source": [
        "## **Libraries**"
      ],
      "metadata": {
        "id": "wD2zlgqNTuQ2"
      }
    },
    {
      "cell_type": "code",
      "execution_count": 1,
      "metadata": {
        "id": "-vKWz6kkA2Lj"
      },
      "outputs": [],
      "source": [
        "import gdown"
      ]
    },
    {
      "cell_type": "markdown",
      "source": [
        "## **Download Dataset**"
      ],
      "metadata": {
        "id": "2bTyVKnyTz6r"
      }
    },
    {
      "cell_type": "code",
      "source": [
        "gdown.download(\"https://drive.google.com/uc?id=1bAJnZWRMPuRF0yRotnLG4Nlr-pRgqWIt\", \"House_Prices.csv\", quiet=False)"
      ],
      "metadata": {
        "colab": {
          "base_uri": "https://localhost:8080/",
          "height": 105
        },
        "id": "joJjm51uUB5-",
        "outputId": "74fa4357-417a-4b5c-b8fa-44bcaf50b781"
      },
      "execution_count": 2,
      "outputs": [
        {
          "output_type": "stream",
          "name": "stderr",
          "text": [
            "Downloading...\n",
            "From: https://drive.google.com/uc?id=1bAJnZWRMPuRF0yRotnLG4Nlr-pRgqWIt\n",
            "To: /content/House_Prices.csv\n",
            "100%|██████████| 3.48k/3.48k [00:00<00:00, 5.87MB/s]\n"
          ]
        },
        {
          "output_type": "execute_result",
          "data": {
            "text/plain": [
              "'House_Prices.csv'"
            ],
            "application/vnd.google.colaboratory.intrinsic+json": {
              "type": "string"
            }
          },
          "metadata": {},
          "execution_count": 2
        }
      ]
    }
  ]
}
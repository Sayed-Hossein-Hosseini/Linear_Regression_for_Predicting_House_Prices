{
  "nbformat": 4,
  "nbformat_minor": 0,
  "metadata": {
    "colab": {
      "provenance": [],
      "authorship_tag": "ABX9TyPZcc5hn5VFy7xaAM7uX3bD",
      "include_colab_link": true
    },
    "kernelspec": {
      "name": "python3",
      "display_name": "Python 3"
    },
    "language_info": {
      "name": "python"
    }
  },
  "cells": [
    {
      "cell_type": "markdown",
      "metadata": {
        "id": "view-in-github",
        "colab_type": "text"
      },
      "source": [
        "<a href=\"https://colab.research.google.com/github/Sayed-Hossein-Hosseini/Linear_Regression_for_Predicting_House_Prices/blob/master/Linear_Regression_for_Predicting_House_Prices.ipynb\" target=\"_parent\"><img src=\"https://colab.research.google.com/assets/colab-badge.svg\" alt=\"Open In Colab\"/></a>"
      ]
    },
    {
      "cell_type": "markdown",
      "source": [
        "# **Linear Regression for Predicting House Prices**"
      ],
      "metadata": {
        "id": "sKNcBO9RTNE_"
      }
    },
    {
      "cell_type": "markdown",
      "source": [
        "## **Libraries**"
      ],
      "metadata": {
        "id": "wD2zlgqNTuQ2"
      }
    },
    {
      "cell_type": "code",
      "execution_count": 4,
      "metadata": {
        "id": "-vKWz6kkA2Lj"
      },
      "outputs": [],
      "source": [
        "import gdown\n",
        "import pandas as pd\n",
        "import warnings\n",
        "\n",
        "warnings.simplefilter(action='ignore', category=FutureWarning)"
      ]
    },
    {
      "cell_type": "markdown",
      "source": [
        "## **Download Dataset**"
      ],
      "metadata": {
        "id": "2bTyVKnyTz6r"
      }
    },
    {
      "cell_type": "code",
      "source": [
        "gdown.download(\"https://drive.google.com/uc?id=1bAJnZWRMPuRF0yRotnLG4Nlr-pRgqWIt\", \"House_Prices.csv\", quiet=False)"
      ],
      "metadata": {
        "colab": {
          "base_uri": "https://localhost:8080/",
          "height": 0
        },
        "id": "joJjm51uUB5-",
        "outputId": "2507b211-79ed-475f-85dd-f6236d49a797"
      },
      "execution_count": 2,
      "outputs": [
        {
          "output_type": "stream",
          "name": "stderr",
          "text": [
            "Downloading...\n",
            "From: https://drive.google.com/uc?id=1bAJnZWRMPuRF0yRotnLG4Nlr-pRgqWIt\n",
            "To: /content/House_Prices.csv\n",
            "100%|██████████| 3.48k/3.48k [00:00<00:00, 7.12MB/s]\n"
          ]
        },
        {
          "output_type": "execute_result",
          "data": {
            "text/plain": [
              "'House_Prices.csv'"
            ],
            "application/vnd.google.colaboratory.intrinsic+json": {
              "type": "string"
            }
          },
          "metadata": {},
          "execution_count": 2
        }
      ]
    },
    {
      "cell_type": "markdown",
      "source": [
        "## **Preprocessing**"
      ],
      "metadata": {
        "id": "FXa3nC_BVKMU"
      }
    },
    {
      "cell_type": "markdown",
      "source": [
        "### **Remove NULL Data**"
      ],
      "metadata": {
        "id": "yghghatvVPu9"
      }
    },
    {
      "cell_type": "code",
      "source": [
        "# Load the dataset\n",
        "df = pd.read_csv('House_Prices.csv')\n",
        "\n",
        "# Display initial dataset information\n",
        "print(\"Dataset Info:\\n\", df.info())\n",
        "print(\"\\nStatistical Description:\\n\", df.describe())\n",
        "\n",
        "# Display the number of NULL values in each column\n",
        "print(\"\\nNumber of NULL values per column:\\n\", df.isna().sum())\n",
        "\n",
        "# Replace NULL values in numerical columns with median or mode\n",
        "def impute_missing_values(df):\n",
        "    for column in df.columns:\n",
        "        if df[column].isna().sum() > 0:  # Check for NULL values in the column\n",
        "            if df[column].dtype in ['int64', 'float64']:\n",
        "                df[column].fillna(int(df[column].median()), inplace=True)  # Replace with median (converted to integer)\n",
        "            else:\n",
        "                df[column].fillna(df[column].mode()[0], inplace=True)  # Replace with mode (for non-numeric data)\n",
        "    return df\n",
        "\n",
        "# Execute replacement\n",
        "df_replace = impute_missing_values(df)\n",
        "\n",
        "# Recheck NULL values\n",
        "print(\"\\nNumber of NULL values after replacement:\\n\", df_replace.isna().sum())\n"
      ],
      "metadata": {
        "colab": {
          "base_uri": "https://localhost:8080/"
        },
        "id": "pSiWcXVHVaUk",
        "outputId": "7d9e187f-0501-4130-b971-f121564429bc"
      },
      "execution_count": 11,
      "outputs": [
        {
          "output_type": "stream",
          "name": "stdout",
          "text": [
            "<class 'pandas.core.frame.DataFrame'>\n",
            "RangeIndex: 128 entries, 0 to 127\n",
            "Data columns (total 7 columns):\n",
            " #   Column        Non-Null Count  Dtype  \n",
            "---  ------        --------------  -----  \n",
            " 0   Price         128 non-null    int64  \n",
            " 1   SqFt          126 non-null    float64\n",
            " 2   Bedrooms      125 non-null    float64\n",
            " 3   Bathrooms     127 non-null    float64\n",
            " 4   Offers        126 non-null    float64\n",
            " 5   Brick         128 non-null    object \n",
            " 6   Neighborhood  128 non-null    object \n",
            "dtypes: float64(4), int64(1), object(2)\n",
            "memory usage: 7.1+ KB\n",
            "Dataset Info:\n",
            " None\n",
            "\n",
            "Statistical Description:\n",
            "                Price         SqFt    Bedrooms   Bathrooms      Offers\n",
            "count     128.000000   126.000000  125.000000  127.000000  126.000000\n",
            "mean   130427.343750  2001.666667    3.032000    2.448819    2.563492\n",
            "std     26868.770371   212.387382    0.728852    0.514992    1.069550\n",
            "min     69100.000000  1450.000000    2.000000    2.000000    1.000000\n",
            "25%    111325.000000  1882.500000    3.000000    2.000000    2.000000\n",
            "50%    125950.000000  2000.000000    3.000000    2.000000    3.000000\n",
            "75%    148250.000000  2140.000000    3.000000    3.000000    3.000000\n",
            "max    211200.000000  2590.000000    5.000000    4.000000    6.000000\n",
            "\n",
            "Number of NULL values per column:\n",
            " Price           0\n",
            "SqFt            2\n",
            "Bedrooms        3\n",
            "Bathrooms       1\n",
            "Offers          2\n",
            "Brick           0\n",
            "Neighborhood    0\n",
            "dtype: int64\n",
            "\n",
            "Number of NULL values after replacement:\n",
            " Price           0\n",
            "SqFt            0\n",
            "Bedrooms        0\n",
            "Bathrooms       0\n",
            "Offers          0\n",
            "Brick           0\n",
            "Neighborhood    0\n",
            "dtype: int64\n"
          ]
        }
      ]
    },
    {
      "cell_type": "markdown",
      "source": [
        "### **Remove Outliers**"
      ],
      "metadata": {
        "id": "yzzrSQlYVa-i"
      }
    },
    {
      "cell_type": "code",
      "source": [
        "# Display the number of rows and summary statistics before outlier removal\n",
        "print(\"Number of rows before removing outliers:\", df_replace.shape[0])\n",
        "print(\"\\nSummary statistics before removing outliers:\\n\", df_replace.describe())\n",
        "\n",
        "# Function to remove outliers using the IQR method\n",
        "def remove_outliers(df, factor=2.0):  # More lenient by default\n",
        "    df = df.copy()\n",
        "    numerical_cols = df.select_dtypes(include=['int64', 'float64']).columns\n",
        "    for col in numerical_cols:\n",
        "        Q1 = df[col].quantile(0.25)\n",
        "        Q3 = df[col].quantile(0.75)\n",
        "        IQR = Q3 - Q1\n",
        "        lower_bound = Q1 - factor * IQR\n",
        "        upper_bound = Q3 + factor * IQR\n",
        "        df = df[(df[col] >= lower_bound) & (df[col] <= upper_bound)]\n",
        "    return df\n",
        "\n",
        "# Apply outlier removal and store the cleaned dataset\n",
        "df_clean = remove_outliers(df_replace, factor=0.25)\n",
        "\n",
        "# Display the number of rows and summary statistics after outlier removal\n",
        "print(\"\\nNumber of rows after removing outliers:\", df_clean.shape[0])\n",
        "print(\"Number of rows removed:\", df_replace.shape[0] - df_clean.shape[0])\n",
        "print(\"\\nSummary statistics after removing outliers:\\n\", df_clean.describe())\n"
      ],
      "metadata": {
        "colab": {
          "base_uri": "https://localhost:8080/"
        },
        "id": "yllcPytxVjOJ",
        "outputId": "dede2132-475a-4dd5-ac48-c6b543a06b3c"
      },
      "execution_count": 18,
      "outputs": [
        {
          "output_type": "stream",
          "name": "stdout",
          "text": [
            "Number of rows before removing outliers: 128\n",
            "\n",
            "Summary statistics before removing outliers:\n",
            "                Price         SqFt    Bedrooms   Bathrooms      Offers\n",
            "count     128.000000   128.000000  128.000000  128.000000  128.000000\n",
            "mean   130427.343750  2001.640625    3.031250    2.445312    2.570312\n",
            "std     26868.770371   210.708506    0.720209    0.514492    1.062486\n",
            "min     69100.000000  1450.000000    2.000000    2.000000    1.000000\n",
            "25%    111325.000000  1887.500000    3.000000    2.000000    2.000000\n",
            "50%    125950.000000  2000.000000    3.000000    2.000000    3.000000\n",
            "75%    148250.000000  2140.000000    3.000000    3.000000    3.000000\n",
            "max    211200.000000  2590.000000    5.000000    4.000000    6.000000\n",
            "\n",
            "Number of rows after removing outliers: 25\n",
            "Number of rows removed: 103\n",
            "\n",
            "Summary statistics after removing outliers:\n",
            "                Price         SqFt  Bedrooms  Bathrooms     Offers\n",
            "count      25.000000    25.000000      25.0  25.000000  25.000000\n",
            "mean   127176.000000  2017.200000       3.0   2.440000   2.680000\n",
            "std     15870.840137   101.304821       0.0   0.506623   0.476095\n",
            "min    102500.000000  1830.000000       3.0   2.000000   2.000000\n",
            "25%    117000.000000  1930.000000       3.0   2.000000   2.000000\n",
            "50%    125700.000000  2000.000000       3.0   2.000000   3.000000\n",
            "75%    140900.000000  2110.000000       3.0   3.000000   3.000000\n",
            "max    157100.000000  2190.000000       3.0   3.000000   3.000000\n"
          ]
        }
      ]
    }
  ]
}